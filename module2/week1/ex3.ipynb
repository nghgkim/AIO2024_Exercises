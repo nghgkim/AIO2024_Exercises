{
 "cells": [
  {
   "cell_type": "code",
   "execution_count": 1,
   "metadata": {},
   "outputs": [
    {
     "name": "stdout",
     "output_type": "stream",
     "text": [
      "Downloading...\n",
      "From: https://drive.google.com/uc?id=1iA0WmVfW88HyJvTBSQDI5vesf-pgKabq\n",
      "To: /Users/nghgkim/AIO2024_Exercises/module2/week1/advertising.csv\n",
      "100%|██████████████████████████████████████| 4.06k/4.06k [00:00<00:00, 6.61MB/s]\n"
     ]
    }
   ],
   "source": [
    "# Download data\n",
    "! gdown 1iA0WmVfW88HyJvTBSQDI5vesf-pgKabq\n",
    "\n",
    "import pandas as pd\n",
    "df = pd.read_csv('./advertising.csv')\n",
    "\n",
    "data = df.to_numpy()"
   ]
  },
  {
   "cell_type": "markdown",
   "metadata": {},
   "source": [
    "### Câu 15"
   ]
  },
  {
   "cell_type": "code",
   "execution_count": 7,
   "metadata": {},
   "outputs": [
    {
     "name": "stdout",
     "output_type": "stream",
     "text": [
      "Max: 27.0 - Index: 175\n"
     ]
    }
   ],
   "source": [
    "import numpy as np\n",
    "\n",
    "\n",
    "sales_data = data[:, 3]\n",
    "sales_max = np.max(sales_data)\n",
    "sales_idx = np.argmax(sales_data)\n",
    "\n",
    "print(f'Max: {sales_max} - Index: {sales_idx}')"
   ]
  },
  {
   "cell_type": "markdown",
   "metadata": {},
   "source": [
    "### Câu 16"
   ]
  },
  {
   "cell_type": "code",
   "execution_count": 8,
   "metadata": {},
   "outputs": [
    {
     "data": {
      "text/plain": [
       "147.0425"
      ]
     },
     "execution_count": 8,
     "metadata": {},
     "output_type": "execute_result"
    }
   ],
   "source": [
    "tv_mean = data[:,0].mean()\n",
    "\n",
    "tv_mean"
   ]
  },
  {
   "cell_type": "markdown",
   "metadata": {},
   "source": [
    "### Câu 17"
   ]
  },
  {
   "cell_type": "code",
   "execution_count": 9,
   "metadata": {},
   "outputs": [
    {
     "data": {
      "text/plain": [
       "40"
      ]
     },
     "execution_count": 9,
     "metadata": {},
     "output_type": "execute_result"
    }
   ],
   "source": [
    "sales_counter = np.sum(data[:, 3] >= 20.0)\n",
    "\n",
    "sales_counter"
   ]
  },
  {
   "cell_type": "markdown",
   "metadata": {},
   "source": [
    "### Câu 18"
   ]
  },
  {
   "cell_type": "code",
   "execution_count": 10,
   "metadata": {},
   "outputs": [
    {
     "data": {
      "text/plain": [
       "26.222935779816517"
      ]
     },
     "execution_count": 10,
     "metadata": {},
     "output_type": "execute_result"
    }
   ],
   "source": [
    "sale_cond = data[:, 3] >= 15\n",
    "radio_data = data[:, 1]\n",
    "radio_cond = radio_data * sale_cond\n",
    "radio_mean = np.sum(radio_cond) / np.sum(sale_cond)\n",
    "\n",
    "radio_mean"
   ]
  },
  {
   "cell_type": "markdown",
   "metadata": {},
   "source": [
    "### Câu 19"
   ]
  },
  {
   "cell_type": "code",
   "execution_count": 11,
   "metadata": {},
   "outputs": [
    {
     "data": {
      "text/plain": [
       "1405.1"
      ]
     },
     "execution_count": 11,
     "metadata": {},
     "output_type": "execute_result"
    }
   ],
   "source": [
    "news_data = data[:, 2]\n",
    "news_mean = news_data.mean()\n",
    "news_cond = news_data > news_mean\n",
    "sales_data = data[:, 3]\n",
    "sales_cond = sales_data * news_cond\n",
    "sales_sum = np.sum(sales_cond)\n",
    "sales_sum"
   ]
  },
  {
   "cell_type": "markdown",
   "metadata": {},
   "source": [
    "### Câu 20"
   ]
  },
  {
   "cell_type": "code",
   "execution_count": 13,
   "metadata": {},
   "outputs": [
    {
     "data": {
      "text/plain": [
       "array(['Bad', 'Bad', 'Good'], dtype='<U7')"
      ]
     },
     "execution_count": 13,
     "metadata": {},
     "output_type": "execute_result"
    }
   ],
   "source": [
    "sales_data = data[:, 3]\n",
    "sales_mean = sales_data.mean()\n",
    "score_sales = np.where(\n",
    "    sales_data < sales_mean,\n",
    "    \"Bad\",\n",
    "    np.where(\n",
    "        sales_data > sales_mean,\n",
    "        \"Good\",\n",
    "        \"Average\"\n",
    "    )\n",
    ")\n",
    "score_sales[7:10]"
   ]
  },
  {
   "cell_type": "markdown",
   "metadata": {},
   "source": [
    "### Câu 21"
   ]
  },
  {
   "cell_type": "code",
   "execution_count": 15,
   "metadata": {},
   "outputs": [
    {
     "data": {
      "text/plain": [
       "array(['Bad', 'Bad', 'Good'], dtype='<U7')"
      ]
     },
     "execution_count": 15,
     "metadata": {},
     "output_type": "execute_result"
    }
   ],
   "source": [
    "sales_data = data[:, 3]\n",
    "sales_mean = sales_data.mean()\n",
    "sub_abs = abs(sales_data - sales_mean)\n",
    "average_idx = np.argmin(sub_abs)\n",
    "sales_average = sales_data[np.argmin(sub_abs)]\n",
    "score_sales = np.where(\n",
    "    sales_data < sales_average,\n",
    "    \"Bad\",\n",
    "    np.where(\n",
    "        sales_data > sales_average,\n",
    "        \"Good\",\n",
    "        \"Average\"\n",
    "    )\n",
    ")\n",
    "score_sales[7:10]"
   ]
  }
 ],
 "metadata": {
  "kernelspec": {
   "display_name": "base",
   "language": "python",
   "name": "python3"
  },
  "language_info": {
   "codemirror_mode": {
    "name": "ipython",
    "version": 3
   },
   "file_extension": ".py",
   "mimetype": "text/x-python",
   "name": "python",
   "nbconvert_exporter": "python",
   "pygments_lexer": "ipython3",
   "version": "3.11.5"
  }
 },
 "nbformat": 4,
 "nbformat_minor": 2
}
