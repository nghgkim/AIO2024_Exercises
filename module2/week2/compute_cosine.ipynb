{
 "cells": [
  {
   "cell_type": "markdown",
   "metadata": {},
   "source": [
    "- $x = \\begin{bmatrix}1 \\\\ 2 \\\\ 3 \\\\ 4\\end{bmatrix}, y = \\begin{bmatrix}1 \\\\ 0 \\\\ 3 \\\\ 0\\end{bmatrix} \\\\$\n",
    "- Cosine Similarity: $cs(x,y) = \\frac{x \\cdot y}{\\| x \\| \\| y \\|} = \\frac{(1 \\times 1) + (2 \\times 0) + (3 \\times 3) + (4 \\times 0)}{\\sqrt{1^2 + 2^2 + 3^2 + 4^2} \\times \\sqrt{1^2 + 0^2 + 3^2 + 0^2}} = \\frac{10}{\\sqrt{30} \\times \\sqrt{10}} = \\frac{1}{\\sqrt{3}}$"
   ]
  },
  {
   "cell_type": "code",
   "execution_count": 1,
   "metadata": {},
   "outputs": [
    {
     "name": "stdout",
     "output_type": "stream",
     "text": [
      "0.577\n"
     ]
    }
   ],
   "source": [
    "import numpy as np\n",
    "from numpy import dot\n",
    "from numpy.linalg import norm\n",
    "\n",
    "\n",
    "def compute_vector_length(vector):\n",
    "    len_of_vector = np.linalg.norm(vector)\n",
    "\n",
    "    return len_of_vector\n",
    "\n",
    "\n",
    "def compute_dot_product(vector1, vector2):\n",
    "    result = result = np.dot(vector1, vector2)\n",
    "\n",
    "    return result\n",
    "\n",
    "\n",
    "def compute_cosine(v1, v2):\n",
    "    cos_sim = compute_dot_product(v1,v2) / (compute_vector_length(v1)*compute_vector_length(v2))\n",
    "\n",
    "    return cos_sim\n",
    "\n",
    "\n",
    "x = np.array([1, 2, 3, 4])\n",
    "y = np.array([1, 0, 3, 0])\n",
    "result = compute_cosine(x,y)\n",
    "print(round(result, 3))"
   ]
  }
 ],
 "metadata": {
  "kernelspec": {
   "display_name": "base",
   "language": "python",
   "name": "python3"
  },
  "language_info": {
   "codemirror_mode": {
    "name": "ipython",
    "version": 3
   },
   "file_extension": ".py",
   "mimetype": "text/x-python",
   "name": "python",
   "nbconvert_exporter": "python",
   "pygments_lexer": "ipython3",
   "version": "3.11.5"
  }
 },
 "nbformat": 4,
 "nbformat_minor": 2
}
