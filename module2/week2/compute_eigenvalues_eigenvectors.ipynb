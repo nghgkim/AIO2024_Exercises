{
 "cells": [
  {
   "cell_type": "markdown",
   "metadata": {},
   "source": [
    "- $A \\in R^{n*n}, I$ (identity matrix) $\\in R^{n*n}, v \\in R^{n*n}$\n",
    "- Eigenvalue ($\\lambda$): \n",
    "$det(A - \\lambda I) = 0 \\\\$\n",
    "$\\Leftrightarrow det(\\begin{bmatrix}0.9 & 0.2 \\\\0.1 & 0.8 \\end{bmatrix} - \\lambda \\begin{bmatrix}1 & 0 \\\\0 & 1 \\end{bmatrix}) = 0 \\\\$\n",
    "$\\Leftrightarrow \\begin{vmatrix}0.9 - \\lambda & 0.2 \\\\0.1 & 0.8 - \\lambda\\end{vmatrix} = 0 \\\\$\n",
    "$\\Leftrightarrow \\lambda^2 - 1.7\\lambda + 0.7 = 0 \\\\$\n",
    "$\\Leftrightarrow \\lambda = 0.7$ or $\\lambda = 1 \\\\$ \n",
    "- Eigenvector ($v$): $(A − λI)v = 0 \\\\$\n",
    "When $\\lambda = 0.7$, $ \n",
    "\\begin{cases}\n",
    "   0.2x + 0.2y = 0 \\\\\n",
    "   0.1x + 0.1y = 0\n",
    "\\end{cases} \\Leftrightarrow \n",
    "x = -y\n",
    "\\Leftrightarrow u_1 = \\begin{bmatrix}1 \\\\-1 \\end{bmatrix} \\\\$\n",
    "Normalize $u_1 = \\frac{u_1}{\\|u_1\\|} = \\frac{1}{\\sqrt{1^2+(-1)^2}} \\begin{bmatrix}1 \\\\-1 \\end{bmatrix} = \\begin{bmatrix}\\frac{1}{\\sqrt{2}} \\\\\\frac{-1}{\\sqrt{2}} \\end{bmatrix} \\\\$\n",
    "When $\\lambda = 1$, $ \n",
    "\\begin{cases}\n",
    "   -0.1x + 0.2y = 0 \\\\\n",
    "   0.1x + -0.2y = 0\n",
    "\\end{cases} \\Leftrightarrow \n",
    "x = 2y\n",
    "\\Leftrightarrow u_2 = \\begin{bmatrix}2 \\\\1 \\end{bmatrix} \\\\$\n",
    "Normalize $u_2 = \\frac{u_2}{\\|u_2\\|} = \\frac{1}{\\sqrt{2^2+(1)^2}} \\begin{bmatrix}2 \\\\1 \\end{bmatrix} = \\begin{bmatrix}\\frac{2}{\\sqrt{5}} \\\\\\frac{1}{\\sqrt{5}} \\end{bmatrix} \\\\$\n"
   ]
  },
  {
   "cell_type": "code",
   "execution_count": 1,
   "metadata": {},
   "outputs": [
    {
     "name": "stdout",
     "output_type": "stream",
     "text": [
      "[[ 0.89442719 -0.70710678]\n",
      " [ 0.4472136   0.70710678]]\n"
     ]
    }
   ],
   "source": [
    "import numpy as np\n",
    "\n",
    "\n",
    "def compute_eigenvalues_eigenvectors(matrix):\n",
    "    eigenvalues, eigenvectors = np.linalg.eig(matrix)\n",
    "    return eigenvalues,eigenvectors\n",
    "\n",
    "\n",
    "matrix = np.array([[0.9, 0.2], [0.1, 0.8]])\n",
    "eigenvalues, eigenvectors = compute_eigenvalues_eigenvectors(matrix)\n",
    "print(eigenvectors)"
   ]
  }
 ],
 "metadata": {
  "kernelspec": {
   "display_name": "base",
   "language": "python",
   "name": "python3"
  },
  "language_info": {
   "codemirror_mode": {
    "name": "ipython",
    "version": 3
   },
   "file_extension": ".py",
   "mimetype": "text/x-python",
   "name": "python",
   "nbconvert_exporter": "python",
   "pygments_lexer": "ipython3",
   "version": "3.11.5"
  }
 },
 "nbformat": 4,
 "nbformat_minor": 2
}
