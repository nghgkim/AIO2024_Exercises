{
 "cells": [
  {
   "cell_type": "markdown",
   "metadata": {},
   "source": [
    "- Matrix A: $\\textbf{A} = \\begin{bmatrix}\n",
    "  -2 & 6 \\\\\n",
    "  8 & -4 \n",
    "\\end{bmatrix}$ \n",
    "\n",
    "- Determinant of $\\textbf{A} \\in R^{2*2}$: $det(A) = ad - bc = -2 * (-4) - 6 * 8 = -40$\n",
    "- $det(A) \\neq 0 \\Rightarrow A$ is invertible\n",
    "- Inverse matrix: $A^{-1} = \\frac{1}{det(A)} \\begin{bmatrix}\n",
    "  d & -b \\\\\n",
    "  -c & a \n",
    "\\end{bmatrix} = \\frac{1}{-40}\\begin{bmatrix}\n",
    "  -4 & -6 \\\\\n",
    "  -8 & -2 \n",
    "\\end{bmatrix} = \\begin{bmatrix}\n",
    "  \\frac{1}{10} & \\frac{3}{20} \\\\\n",
    "  \\frac{1}{5} & \\frac{1}{20}\n",
    "\\end{bmatrix}$"
   ]
  },
  {
   "cell_type": "code",
   "execution_count": 1,
   "metadata": {},
   "outputs": [],
   "source": [
    "import numpy as np\n",
    "def inverse_matrix(matrix):\n",
    "    result = np.linalg.inv(matrix)\n",
    "    return result"
   ]
  },
  {
   "cell_type": "code",
   "execution_count": 2,
   "metadata": {},
   "outputs": [
    {
     "name": "stdout",
     "output_type": "stream",
     "text": [
      "[[0.1  0.15]\n",
      " [0.2  0.05]]\n"
     ]
    }
   ],
   "source": [
    "m1 = np. array([[-2, 6], [8, -4]])\n",
    "result = inverse_matrix(m1)\n",
    "print(result)"
   ]
  }
 ],
 "metadata": {
  "kernelspec": {
   "display_name": "base",
   "language": "python",
   "name": "python3"
  },
  "language_info": {
   "codemirror_mode": {
    "name": "ipython",
    "version": 3
   },
   "file_extension": ".py",
   "mimetype": "text/x-python",
   "name": "python",
   "nbconvert_exporter": "python",
   "pygments_lexer": "ipython3",
   "version": "3.11.5"
  }
 },
 "nbformat": 4,
 "nbformat_minor": 2
}
