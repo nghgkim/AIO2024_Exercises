{
 "cells": [
  {
   "cell_type": "code",
   "execution_count": 1,
   "metadata": {},
   "outputs": [
    {
     "name": "stdout",
     "output_type": "stream",
     "text": [
      "Mean :  1.8\n"
     ]
    }
   ],
   "source": [
    "### Question 1\n",
    "import numpy as np\n",
    "\n",
    "def compute_mean(X):\n",
    "  return np.sum(X) / len(X)\n",
    "\n",
    "X = [2, 0, 2, 2, 7, 4, -2, 5, -1, -1]\n",
    "\n",
    "print(\"Mean : \", compute_mean(X))"
   ]
  },
  {
   "cell_type": "code",
   "execution_count": 3,
   "metadata": {},
   "outputs": [
    {
     "name": "stdout",
     "output_type": "stream",
     "text": [
      "Median:  4.5\n"
     ]
    }
   ],
   "source": [
    "### Question 2\n",
    "\n",
    "def compute_median(X):\n",
    "  size = len(X)\n",
    "  X = np.sort(X)\n",
    "\n",
    "  if (size % 2 == 0):\n",
    "    return (1 / 2 * (X[int(size / 2) - 1] + (X[int(size / 2)])))\n",
    "  else:\n",
    "    return X[int((size + 1) / 2) - 1]\n",
    "\n",
    "X = [1, 5, 4, 4, 9, 13]\n",
    "print(\"Median: \", compute_median(X))"
   ]
  },
  {
   "cell_type": "code",
   "execution_count": null,
   "metadata": {},
   "outputs": [],
   "source": [
    "### Question 3\n",
    "\n",
    "def compute_std ( X ) :\n",
    "    mean = compute_mean ( X )\n",
    "    variance = 0\n",
    "    # your code here *******************\n",
    "\n",
    "    return np.sqrt(variance)\n",
    "\n",
    "X = [ 171 , 176 , 155 , 167"
   ]
  }
 ],
 "metadata": {
  "kernelspec": {
   "display_name": "base",
   "language": "python",
   "name": "python3"
  },
  "language_info": {
   "codemirror_mode": {
    "name": "ipython",
    "version": 3
   },
   "file_extension": ".py",
   "mimetype": "text/x-python",
   "name": "python",
   "nbconvert_exporter": "python",
   "pygments_lexer": "ipython3",
   "version": "3.12.4"
  }
 },
 "nbformat": 4,
 "nbformat_minor": 2
}
